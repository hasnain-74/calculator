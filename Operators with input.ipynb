{
 "cells": [
  {
   "cell_type": "code",
   "execution_count": 1,
   "metadata": {},
   "outputs": [],
   "source": [
    "#Assignment of print with operators and input"
   ]
  },
  {
   "cell_type": "code",
   "execution_count": 1,
   "metadata": {},
   "outputs": [
    {
     "name": "stdout",
     "output_type": "stream",
     "text": [
      "Enter your 1st num: 5\n",
      "Enter your 2nd num: 25\n",
      "select any one operation \n",
      "\n",
      " + for sum \n",
      " - for subtraction \n",
      " * for multiplication \n",
      " / for division \n",
      "*\n",
      "Your multplication =  125\n"
     ]
    }
   ],
   "source": [
    "#Calculator\n",
    "\n",
    "num1 = int(input(\"Enter your 1st num: \"))\n",
    "num2 = int(input(\"Enter your 2nd num: \"))\n",
    "\n",
    "operation = input(\"select any one operation \\n\\n + for sum \\n - for subtraction \\n * for multiplication \\n / for division \\n\")\n",
    "\n",
    "\n",
    "if operation == '+':\n",
    "    print(\"Your Sum = \", num1 + num2)\n",
    "elif operation=='-':\n",
    "    print(\"Your sub = \", num1 - num2)\n",
    "elif operation == '*':\n",
    "    print(\"Your multplication = \", num1*num2)\n",
    "elif operation == '/':\n",
    "    print(\"Your division = \", num1/num2)\n",
    "else:\n",
    "    print(\"Please enter right operation\")\n",
    "\n",
    "    "
   ]
  },
  {
   "cell_type": "code",
   "execution_count": null,
   "metadata": {},
   "outputs": [],
   "source": []
  }
 ],
 "metadata": {
  "kernelspec": {
   "display_name": "Python 3",
   "language": "python",
   "name": "python3"
  },
  "language_info": {
   "codemirror_mode": {
    "name": "ipython",
    "version": 3
   },
   "file_extension": ".py",
   "mimetype": "text/x-python",
   "name": "python",
   "nbconvert_exporter": "python",
   "pygments_lexer": "ipython3",
   "version": "3.7.6"
  }
 },
 "nbformat": 4,
 "nbformat_minor": 4
}
